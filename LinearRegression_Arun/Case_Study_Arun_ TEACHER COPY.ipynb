{
 "cells": [
  {
   "cell_type": "markdown",
   "metadata": {
    "colab_type": "text",
    "id": "ycZ7xjHYCUt7"
   },
   "source": [
    "# Case Study\n",
    "\n",
    "This notebook is designed to teach you about some Data Science tools. It will cover these core concepts:\n",
    "- Explore and understand\n",
    "- Preprocess\n",
    "- Management\n",
    "- Analysis\n",
    "- Visualization"
   ]
  },
  {
   "cell_type": "markdown",
   "metadata": {},
   "source": [
    "***\n",
    "## Explore and Understand\n",
    "***\n",
    "We will perform an Exploratory Data Analysis (EDA). This will show us what the data looks like, how big the data is, what type of data is present, if there are any missing values, and a correlation between the data.\n",
    "\n",
    "\n",
    "This is useful to us as we can determine if the data we are working with is clean or not. If it is unclean, then we will have to fix it to make it usable."
   ]
  },
  {
   "cell_type": "markdown",
   "metadata": {
    "colab_type": "text",
    "id": "dWs0jNWnEv8D"
   },
   "source": [
    "### Importing Libraries and Data Analysis"
   ]
  },
  {
   "cell_type": "code",
   "execution_count": null,
   "metadata": {
    "colab": {
     "base_uri": "https://localhost:8080/",
     "height": 70
    },
    "colab_type": "code",
    "id": "B0zFmhm2CiVZ",
    "outputId": "54436ffb-148f-4d92-ef59-34c8fd84ff4c"
   },
   "outputs": [],
   "source": [
    "# These are the libraries we will be using\n",
    "import numpy as np\n",
    "import matplotlib.pyplot as plt\n",
    "import pandas as pd\n",
    "import seaborn as sns\n"
   ]
  },
  {
   "cell_type": "markdown",
   "metadata": {},
   "source": [
    "<br><br>\n",
    "We will now read in the csv dataset using the pandas library. We can then display the first 5 rows to see how the data looks. Pandas is a software library for data manipulation and analysis (https://pandas.pydata.org/docs/)."
   ]
  },
  {
   "cell_type": "code",
   "execution_count": null,
   "metadata": {
    "colab": {
     "base_uri": "https://localhost:8080/",
     "height": 195
    },
    "colab_type": "code",
    "id": "IrNMdc18Ga0u",
    "outputId": "3a1b7d73-9ad7-4ff6-8deb-6bdf8164f8ea"
   },
   "outputs": [],
   "source": [
    "# Read dataset \n",
    "dataframe = pd.read_csv(\"Octanol_Water.csv\")\n",
    "\n",
    "# This displays the top 5 rows of our data\n",
    "dataframe.head()"
   ]
  },
  {
   "cell_type": "markdown",
   "metadata": {},
   "source": [
    "<br><br>\n",
    "We will show the shape of our dataset. This tells us how many rows and columns there are in the form (rows, columns)."
   ]
  },
  {
   "cell_type": "code",
   "execution_count": null,
   "metadata": {
    "colab": {
     "base_uri": "https://localhost:8080/",
     "height": 34
    },
    "colab_type": "code",
    "id": "qW-t-trCHEtB",
    "outputId": "ad91cf6d-31fd-4d50-d8fb-a25603704092"
   },
   "outputs": [],
   "source": [
    "# Size of data\n",
    "dataframe.shape"
   ]
  },
  {
   "cell_type": "markdown",
   "metadata": {},
   "source": [
    "<br><br>\n",
    "We will now get the headings from all the columns."
   ]
  },
  {
   "cell_type": "code",
   "execution_count": null,
   "metadata": {
    "colab": {
     "base_uri": "https://localhost:8080/",
     "height": 84
    },
    "colab_type": "code",
    "id": "hPjlWcdcHheb",
    "outputId": "927e467e-1a61-41eb-bca6-45d2fa494fd8"
   },
   "outputs": [],
   "source": [
    "#Features\n",
    "dataframe.columns"
   ]
  },
  {
   "cell_type": "markdown",
   "metadata": {},
   "source": [
    "<br><br>\n",
    "We can now get the data types that are present and the count of each."
   ]
  },
  {
   "cell_type": "code",
   "execution_count": null,
   "metadata": {},
   "outputs": [],
   "source": [
    "dataframe.info()"
   ]
  },
  {
   "cell_type": "markdown",
   "metadata": {},
   "source": [
    "<br><br> \n",
    "As we can see there are a couple of different data types (int64 and float64). We can see that there are 16 non-null values for each column which tells us there is no missing data (we know the shape is 16 rows long).\n",
    "\n",
    "Just to be sure, we can see how many null values are present:"
   ]
  },
  {
   "cell_type": "code",
   "execution_count": null,
   "metadata": {
    "colab": {
     "base_uri": "https://localhost:8080/",
     "height": 269
    },
    "colab_type": "code",
    "id": "9tuImGcjHrRf",
    "outputId": "5ebd8536-e4fd-400e-d1ca-2a0ff392a243"
   },
   "outputs": [],
   "source": [
    "# Number of all missing datapoints\n",
    "dataframe.isna().sum()"
   ]
  },
  {
   "cell_type": "markdown",
   "metadata": {
    "colab_type": "text",
    "id": "FeAkW3sjINTl"
   },
   "source": [
    "We can see that the above data has no missing data points. If there were any missing values, there are a few things we can do to handle the data (it will be covered further down in the notebook)."
   ]
  },
  {
   "cell_type": "markdown",
   "metadata": {},
   "source": [
    "<br><br>\n",
    "We will now see how correlated the data is. The below plot shows which variables (or columns) are strongly correlated to other columns. The darker the color is, the more correlated those variables are to one another."
   ]
  },
  {
   "cell_type": "code",
   "execution_count": null,
   "metadata": {},
   "outputs": [],
   "source": [
    "sns.heatmap(dataframe.corr(), cmap= 'coolwarm')"
   ]
  },
  {
   "cell_type": "markdown",
   "metadata": {},
   "source": [
    "***\n",
    "## Preprocessing\n",
    "***\n",
    "This is where we handle the unclean data. We need to fix any missing values so that we can perform linear regression on the data.\n",
    "\n",
    "This is also where we can delete any columns we don't need for our calculations."
   ]
  },
  {
   "cell_type": "markdown",
   "metadata": {
    "colab_type": "text",
    "id": "2YEN-Vc6IUmL"
   },
   "source": [
    "### Handling the Missing Data\n",
    "Missing data in the training data set can reduce the power / fit of a model or can lead to a biased model because we have not analysed the behavior and relationship with other variables correctly. It can lead to wrong prediction or classification.\n",
    "\n",
    "Common methods to treat missing values:\n",
    "\n",
    "1) Deletion\n",
    "\n",
    "2) Mean/ Mode/ Median/ Zero Imputation"
   ]
  },
  {
   "cell_type": "markdown",
   "metadata": {
    "colab": {},
    "colab_type": "code",
    "id": "pRzK2mmnH9Wv"
   },
   "source": [
    "<br><br>\n",
    "In the case of this dataset we can just get rid of the rows that include missing values. (We know the data has no missing elements, but if it did, this is how we would do it)."
   ]
  },
  {
   "cell_type": "code",
   "execution_count": null,
   "metadata": {
    "colab": {},
    "colab_type": "code",
    "id": "nYoIGsuMcGA3"
   },
   "outputs": [],
   "source": [
    "# Drop the rows that have missing values\n",
    "# dataframe.fillna(0, inplace=True)  # fills missing elements with 0's\n",
    "dataframe.dropna(inplace=True)  # gets rid of rows that have missing data"
   ]
  },
  {
   "cell_type": "markdown",
   "metadata": {},
   "source": [
    "<br><br> \n",
    "Now we can double check that there are no missing values."
   ]
  },
  {
   "cell_type": "code",
   "execution_count": null,
   "metadata": {
    "colab": {
     "base_uri": "https://localhost:8080/",
     "height": 269
    },
    "colab_type": "code",
    "id": "dn5Ae0WHd_62",
    "outputId": "8f7bd5e5-6daf-43bf-b447-5c36b43dd93c"
   },
   "outputs": [],
   "source": [
    "# Number of all missing datapoints\n",
    "dataframe.isna().sum()"
   ]
  },
  {
   "cell_type": "markdown",
   "metadata": {},
   "source": [
    "<br>\n",
    "Great! No missing values. Now we can move on.<br>\n",
    "\n",
    "<br><br>\n",
    "To perform our Linear Regression, we only need to focus on the following columns:\n",
    "- log K_ow\n",
    "- BCF\n",
    "\n",
    "This means we can disregard the rest of the columns when performing our Linear Regression."
   ]
  },
  {
   "cell_type": "markdown",
   "metadata": {},
   "source": [
    "<br><br>\n",
    "Now that we know what to focus on, we will begin the process for Linear Regression. "
   ]
  },
  {
   "cell_type": "markdown",
   "metadata": {
    "colab_type": "text",
    "id": "PZgNZDPretAZ"
   },
   "source": [
    "***\n",
    "## Management and Analysis\n",
    "***\n",
    "This section we will perform our linear regression algorithms on the data.\n",
    "\n",
    "We will first look at "
   ]
  },
  {
   "cell_type": "code",
   "execution_count": null,
   "metadata": {
    "colab": {},
    "colab_type": "code",
    "id": "62I4svLYev2G"
   },
   "outputs": [],
   "source": [
    "# INPUT\n",
    "X =pd.DataFrame(dataframe['log K_ow'])\n",
    "# Target/ OUTPUT\n",
    "Y =pd.DataFrame(dataframe['BCF'])"
   ]
  },
  {
   "cell_type": "code",
   "execution_count": null,
   "metadata": {
    "colab": {
     "base_uri": "https://localhost:8080/",
     "height": 232
    },
    "colab_type": "code",
    "id": "8gy958jKfHAA",
    "outputId": "0df7387d-f61a-4c34-de12-24ca608be2e5"
   },
   "outputs": [],
   "source": [
    "X.head()"
   ]
  },
  {
   "cell_type": "code",
   "execution_count": null,
   "metadata": {
    "colab": {
     "base_uri": "https://localhost:8080/",
     "height": 195
    },
    "colab_type": "code",
    "id": "geXWhpiRfRY0",
    "outputId": "4b2f8acb-e222-4f09-ff6b-6d94a85c9735"
   },
   "outputs": [],
   "source": [
    "Y.head()"
   ]
  },
  {
   "cell_type": "markdown",
   "metadata": {},
   "source": [
    "<br><br>\n",
    "We need to split the data into two sets. One set will be used to train the linear regression model, while the other set will be used to test the linear regression model."
   ]
  },
  {
   "cell_type": "code",
   "execution_count": null,
   "metadata": {},
   "outputs": [],
   "source": [
    "# We need to split the data into a training and testing set\n",
    "# This library will give us an easy way to split our data\n",
    "from sklearn.model_selection import train_test_split\n",
    "\n",
    "# Split the Input and Target variables into TRAINING and TESTING data\n",
    "X_train, X_test, y_train, y_test = train_test_split(X, Y, test_size = 0.3, random_state=1)"
   ]
  },
  {
   "cell_type": "markdown",
   "metadata": {},
   "source": [
    "<br><br>\n",
    "***\n",
    "## Your Turn\n",
    "### Now we have our data in a format we can use for Linear Regression\n",
    "You can attempt to use the algorithms developed in the previous notebook. Please replace the ___ with the correct variables or functions."
   ]
  },
  {
   "cell_type": "code",
   "execution_count": null,
   "metadata": {},
   "outputs": [],
   "source": [
    "# This is the data we are using\n",
    "x_data = X_train.to_numpy().flatten()\n",
    "y_data = y_train.to_numpy().flatten()\n",
    "\n",
    "# Perform the square of residuals\n",
    "# Get matrix y\n",
    "y = np.array([ sum(y_data), sum(y_data * x_data) ])\n",
    "\n",
    "# Get matrix A\n",
    "A = np.array([ [float(sum(x_data)), len(x_data)], [float(sum(x_data*x_data)), float(sum(x_data))] ])\n",
    "\n",
    "# Get m and b\n",
    "m_b = (np.linalg.inv(A) @ y).T\n",
    "\n",
    "# Display the results\n",
    "print(\"\\nRESULTS\")\n",
    "print(\"Intercept (b):\\t\", m_b[1])\n",
    "print(\"Slope (m):\\t\", m_b[0])"
   ]
  },
  {
   "cell_type": "markdown",
   "metadata": {},
   "source": [
    "<br><br>\n",
    "***\n",
    "Now you can perform linear regression using the python technique that you learned in the previous notebook.\n",
    "The data variables to use are:\n",
    "- X_train\n",
    "- y_train\n",
    "- X_test"
   ]
  },
  {
   "cell_type": "code",
   "execution_count": null,
   "metadata": {},
   "outputs": [],
   "source": [
    "# Performing linear regression in Python\n",
    "from sklearn.linear_model import LinearRegression\n",
    "\n",
    "# Create our linear regression model\n",
    "model = LinearRegression()\n",
    "\n",
    "# Next we fit our model using the training data\n",
    "model.fit(X_train, y_train)\n",
    "\n",
    "# Now we apply our model to the testing data\n",
    "predictions = model.predict(X_test)"
   ]
  },
  {
   "cell_type": "code",
   "execution_count": null,
   "metadata": {},
   "outputs": [],
   "source": [
    "# Get the intercept and slope (see linear regression notebook)\n",
    "b = model.intercept_\n",
    "m = model.coef_\n",
    "\n",
    "# Get the results\n",
    "print(\"\\nRESULTS\")\n",
    "print(\"Intercept (b): \", b)\n",
    "print(\"Slope (m): \", m)"
   ]
  },
  {
   "cell_type": "code",
   "execution_count": null,
   "metadata": {},
   "outputs": [],
   "source": [
    "# Let's get the error value\n",
    "from sklearn.metrics import r2_score\n",
    "\n",
    "print(r2_score(y_test, predictions))"
   ]
  },
  {
   "cell_type": "markdown",
   "metadata": {},
   "source": [
    "This shows our r-squared value."
   ]
  },
  {
   "cell_type": "markdown",
   "metadata": {},
   "source": [
    "***\n",
    "## Visualization\n",
    "***\n",
    "Now we can plot the data and see if it looks correct.\n"
   ]
  },
  {
   "cell_type": "code",
   "execution_count": null,
   "metadata": {},
   "outputs": [],
   "source": [
    "# plot the results\n",
    "plt.figure(figsize=(8, 6))\n",
    "ax = plt.axes()\n",
    "ax.scatter(X_test, y_test, color='black')\n",
    "ax.plot(X_test, predictions, color='blue', linewidth=3)\n",
    "\n",
    "ax.set_xlabel('K_ow')\n",
    "ax.set_ylabel('BCF')\n",
    "\n",
    "ax.axis('tight')\n",
    "\n",
    "plt.show()"
   ]
  },
  {
   "cell_type": "markdown",
   "metadata": {},
   "source": [
    "<br><br>\n",
    "As we can see, our results are not great. If we had more data, this would improve our results."
   ]
  },
  {
   "cell_type": "code",
   "execution_count": null,
   "metadata": {},
   "outputs": [],
   "source": []
  }
 ],
 "metadata": {
  "colab": {
   "authorship_tag": "ABX9TyOo83YNgkhlyoMxrKk3/uOU",
   "include_colab_link": true,
   "name": "Campus Placement.ipynb",
   "provenance": []
  },
  "kernelspec": {
   "display_name": "Python 3",
   "language": "python",
   "name": "python3"
  },
  "language_info": {
   "codemirror_mode": {
    "name": "ipython",
    "version": 3
   },
   "file_extension": ".py",
   "mimetype": "text/x-python",
   "name": "python",
   "nbconvert_exporter": "python",
   "pygments_lexer": "ipython3",
   "version": "3.9.2"
  }
 },
 "nbformat": 4,
 "nbformat_minor": 1
}
