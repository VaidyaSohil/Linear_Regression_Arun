{
 "cells": [
  {
   "cell_type": "code",
   "execution_count": null,
   "metadata": {},
   "outputs": [],
   "source": [
    "a = 'abc'\n",
    "b = 'def'\n",
    "c = 23\n",
    "d = 40\n",
    "a+b\n",
    "c+d"
   ]
  },
  {
   "cell_type": "code",
   "execution_count": null,
   "metadata": {},
   "outputs": [],
   "source": [
    "class IITian:\n",
    "    pass"
   ]
  },
  {
   "cell_type": "code",
   "execution_count": null,
   "metadata": {},
   "outputs": [],
   "source": [
    "jack = IITian()\n",
    "jill = IITian()"
   ]
  },
  {
   "cell_type": "code",
   "execution_count": null,
   "metadata": {},
   "outputs": [],
   "source": [
    "jack.first_name = \"Jackobie\""
   ]
  },
  {
   "cell_type": "code",
   "execution_count": null,
   "metadata": {},
   "outputs": [],
   "source": [
    "jill.firstname = \"Jillian\""
   ]
  },
  {
   "cell_type": "code",
   "execution_count": null,
   "metadata": {},
   "outputs": [],
   "source": [
    "students = [jack, jill]"
   ]
  },
  {
   "cell_type": "code",
   "execution_count": null,
   "metadata": {},
   "outputs": [],
   "source": [
    "print(jack.first_name)\n",
    "print(jill.firstname)"
   ]
  },
  {
   "cell_type": "code",
   "execution_count": null,
   "metadata": {},
   "outputs": [],
   "source": [
    "for student in students:\n",
    "    print(student.first_name)"
   ]
  },
  {
   "cell_type": "code",
   "execution_count": null,
   "metadata": {},
   "outputs": [],
   "source": [
    "class IITian:\n",
    "    def __init__(self, fname):\n",
    "        self.firstname = fname"
   ]
  },
  {
   "cell_type": "code",
   "execution_count": null,
   "metadata": {},
   "outputs": [],
   "source": [
    "jack = IITian(\"Jackobie\")\n",
    "jill = IITian(\"Jillian\")"
   ]
  },
  {
   "cell_type": "code",
   "execution_count": null,
   "metadata": {},
   "outputs": [],
   "source": [
    "students = [jack, jill]"
   ]
  },
  {
   "cell_type": "code",
   "execution_count": null,
   "metadata": {},
   "outputs": [],
   "source": [
    "for student in students:\n",
    "    print(student.firstname)"
   ]
  },
  {
   "cell_type": "markdown",
   "metadata": {},
   "source": [
    "#### _\" An abstraction denotes the essential characteristics of a collection of objects  \"_"
   ]
  },
  {
   "cell_type": "code",
   "execution_count": null,
   "metadata": {},
   "outputs": [],
   "source": [
    "class IITian:\n",
    "    def __init__(self, fname, lname='Sir'):\n",
    "        self.firstname = fname\n",
    "        self.lastname = lname"
   ]
  },
  {
   "cell_type": "code",
   "execution_count": null,
   "metadata": {},
   "outputs": [],
   "source": [
    "jack = IITian(\"Jackobie\")\n",
    "jill = IITian(\"Jillian\",\"Leibniz\")"
   ]
  },
  {
   "cell_type": "code",
   "execution_count": null,
   "metadata": {},
   "outputs": [],
   "source": [
    "#just a function\n",
    "def fullname(student):\n",
    "    print(student.firstname +' '+student.lastname)"
   ]
  },
  {
   "cell_type": "code",
   "execution_count": null,
   "metadata": {},
   "outputs": [],
   "source": [
    "fullname(jack)\n",
    "fullname(jill)"
   ]
  },
  {
   "cell_type": "code",
   "execution_count": null,
   "metadata": {},
   "outputs": [],
   "source": [
    "class IITian:\n",
    "    def __init__(self, fname, lname):\n",
    "        self.firstname = fname #these are called instance variables\n",
    "        self.lastname = lname\n",
    "    \n",
    "    def fullname(self):\n",
    "        print(self.firstname +' '+self.lastname)"
   ]
  },
  {
   "cell_type": "code",
   "execution_count": null,
   "metadata": {},
   "outputs": [],
   "source": [
    "jack = IITian(\"Jackobie\",\"Newton\")\n",
    "jill = IITian(\"Jillian\",\"Leibniz\")"
   ]
  },
  {
   "cell_type": "code",
   "execution_count": null,
   "metadata": {},
   "outputs": [],
   "source": [
    "jack.fullname()\n",
    "jill.fullname()"
   ]
  },
  {
   "cell_type": "code",
   "execution_count": null,
   "metadata": {},
   "outputs": [],
   "source": [
    "#is this the same?\n",
    "IITian.fullname(jack)\n",
    "IITian.fullname(jill)"
   ]
  },
  {
   "cell_type": "code",
   "execution_count": null,
   "metadata": {},
   "outputs": [],
   "source": [
    "'my age {}'.format(36)"
   ]
  },
  {
   "cell_type": "markdown",
   "metadata": {},
   "source": [
    "#### _\"Encapsulation is defined as the wrapping up of data under a single unit. It is the mechanism that binds together code and the data it manipulates\"_\n",
    "\n",
    "#### _\" One meaning of encapsulation is hiding the implementation detail.\"_\n",
    "\n",
    "#### _\"Another meaning is to protect data from mainpulation from external sources (python does not do that well and they have an excuse).\"_\n",
    "\n",
    "#### _\"Yet another meaning is to group all related data and methods into a class.\"_"
   ]
  },
  {
   "cell_type": "code",
   "execution_count": null,
   "metadata": {},
   "outputs": [],
   "source": [
    "class IITian:\n",
    "    livesin_location = 'SriCity' #these are called class variables\n",
    "    def __init__(self, fname, lname):\n",
    "        self.firstname = fname \n",
    "        self.lastname = lname\n",
    "    \n",
    "    def fullname(self):\n",
    "        print(self.firstname +' '+self.lastname)"
   ]
  },
  {
   "cell_type": "code",
   "execution_count": null,
   "metadata": {},
   "outputs": [],
   "source": [
    "jack = IITian(\"Jackobie\",\"Newton\")\n",
    "jill = IITian(\"Jillian\",\"Leibniz\")"
   ]
  },
  {
   "cell_type": "code",
   "execution_count": null,
   "metadata": {},
   "outputs": [],
   "source": [
    "jack.__dict__"
   ]
  },
  {
   "cell_type": "code",
   "execution_count": null,
   "metadata": {},
   "outputs": [],
   "source": [
    "#lets see what dir is all about using help\n",
    "dir(jack)"
   ]
  },
  {
   "cell_type": "code",
   "execution_count": null,
   "metadata": {},
   "outputs": [],
   "source": [
    "dir(IITian)"
   ]
  },
  {
   "cell_type": "markdown",
   "metadata": {},
   "source": [
    "#### _\"When all objects share attribute this indicates a possibility of creating an abstraction (class). You define the attributes in the class. Iff the value will be the same/common for all instances under all circumstances, thats the case for making a class variable\"_"
   ]
  },
  {
   "cell_type": "code",
   "execution_count": null,
   "metadata": {},
   "outputs": [],
   "source": [
    "print(jack.livesin_location)\n",
    "print(jill.livesin_location)\n",
    "print(IITian.livesin_location)"
   ]
  },
  {
   "cell_type": "code",
   "execution_count": null,
   "metadata": {},
   "outputs": [],
   "source": [
    "# class variable is connected to class object\n",
    "IITian.livesin_location = 'Sri City'"
   ]
  },
  {
   "cell_type": "code",
   "execution_count": null,
   "metadata": {},
   "outputs": [],
   "source": [
    "print(jack.livesin_location)\n",
    "print(jill.livesin_location)\n",
    "print(IITian.livesin_location)"
   ]
  },
  {
   "cell_type": "code",
   "execution_count": null,
   "metadata": {},
   "outputs": [],
   "source": [
    "jack.livesin_location = 'sricity'"
   ]
  },
  {
   "cell_type": "markdown",
   "metadata": {},
   "source": [
    "**what will happen below?**"
   ]
  },
  {
   "cell_type": "code",
   "execution_count": null,
   "metadata": {},
   "outputs": [],
   "source": [
    "print(jack.livesin_location)\n",
    "print(jill.livesin_location)\n",
    "print(IITian.livesin_location)"
   ]
  },
  {
   "cell_type": "code",
   "execution_count": null,
   "metadata": {},
   "outputs": [],
   "source": [
    "class IITian:\n",
    "    livesin_location = 'SriCity' #these are called class variables\n",
    "    total_people = 0 #another common use of the variable\n",
    "    def __init__(self, fname, lname):\n",
    "        self.firstname = fname \n",
    "        self.lastname = lname\n",
    "        IITian.total_people += 1\n",
    "    \n",
    "    def fullname(self):\n",
    "        print(self.firstname +' '+self.lastname)"
   ]
  },
  {
   "cell_type": "code",
   "execution_count": null,
   "metadata": {},
   "outputs": [],
   "source": [
    "jack = IITian(\"Jackobie\",\"Newton\")\n",
    "jill = IITian(\"Jillian\",\"Leibniz\")"
   ]
  },
  {
   "cell_type": "code",
   "execution_count": null,
   "metadata": {},
   "outputs": [],
   "source": [
    "IITian.total_people"
   ]
  },
  {
   "cell_type": "markdown",
   "metadata": {},
   "source": [
    "#### _\"If its an information about the class itself, like for example the number of instances, then use a class variable. \"_"
   ]
  },
  {
   "cell_type": "code",
   "execution_count": null,
   "metadata": {},
   "outputs": [],
   "source": [
    "# now lets look at inherittance\n",
    "class IITian:\n",
    "    livesin_location = 'SriCity' #these are called class variables\n",
    "    total_people = 0\n",
    "    def __init__(self, fname, lname):\n",
    "        self.firstname = fname \n",
    "        self.lastname = lname\n",
    "        IITian.total_people += 1\n",
    "    \n",
    "    def fullname(self):\n",
    "        print(self.firstname +' '+self.lastname)\n",
    "\n",
    "\n",
    "class Professor(IITian):\n",
    "    def __init__(self, fname, lname, salary, courses_offered):\n",
    "        super().__init__(fname, lname)\n",
    "        self.salary = salary\n",
    "        self.courses_offered = courses_offered\n",
    "\n",
    "class Student(IITian):\n",
    "    def __init__(self, fname, lname, rollno, courses_taken):\n",
    "        super().__init__(fname, lname)\n",
    "        self.rollno = rollno\n",
    "        self.courses_taken= courses_taken"
   ]
  },
  {
   "cell_type": "code",
   "execution_count": null,
   "metadata": {},
   "outputs": [],
   "source": [
    "moosa = Professor('moosa','abc',1000,['data ninja'])"
   ]
  },
  {
   "cell_type": "code",
   "execution_count": null,
   "metadata": {},
   "outputs": [],
   "source": [
    "moosa.__dict__"
   ]
  },
  {
   "cell_type": "code",
   "execution_count": null,
   "metadata": {},
   "outputs": [],
   "source": [
    "dir(moosa)"
   ]
  },
  {
   "cell_type": "code",
   "execution_count": null,
   "metadata": {},
   "outputs": [],
   "source": [
    "class IITian:\n",
    "    livesin_location = 'SriCity'\n",
    "    total_people = 0\n",
    "    def __init__(self, fname, lname):\n",
    "        self.firstname = fname \n",
    "        self.lastname = lname\n",
    "        IITian.total_people += 1\n",
    "    \n",
    "    def fullname(self):\n",
    "        print(self.firstname +' '+self.lastname)\n",
    "    \n",
    "    def attend(self):\n",
    "        return \"I should attend.\"\n",
    "\n",
    "class Professor(IITian):\n",
    "    def __init__(self, fname, lname, salary, courses_offered):\n",
    "        super().__init__(fname, lname)\n",
    "        self.salary = salary\n",
    "        self.courses_offered = courses_offered\n",
    "\n",
    "class Student(IITian):\n",
    "    def __init__(self, fname, lname, rollno, courses_taken):\n",
    "        super().__init__(fname, lname)\n",
    "        self.rollno = rollno\n",
    "        self.courses_taken= courses_taken"
   ]
  },
  {
   "cell_type": "code",
   "execution_count": null,
   "metadata": {},
   "outputs": [],
   "source": [
    "moosa = Professor('moosa','abc',1000,['ase1'])\n",
    "student_x = Student('student','x',12,'[ase1, m3, algo]')"
   ]
  },
  {
   "cell_type": "code",
   "execution_count": null,
   "metadata": {},
   "outputs": [],
   "source": [
    "print(moosa.attend())\n",
    "print(student_x.attend())"
   ]
  },
  {
   "cell_type": "markdown",
   "metadata": {},
   "source": [
    "**I can ask anyone of you (or all of you) for rollno and be 100% certain that you'll have it**"
   ]
  },
  {
   "cell_type": "code",
   "execution_count": null,
   "metadata": {},
   "outputs": [],
   "source": [
    "# same applies when you have an abstraction, you can be assured that all instances have that property\n",
    "IIT_people = [moosa,student_x]\n",
    "for p in IIT_people:\n",
    "    print(p.attend())"
   ]
  },
  {
   "cell_type": "code",
   "execution_count": null,
   "metadata": {},
   "outputs": [],
   "source": [
    "class IITian:\n",
    "    livesin_location = 'SriCity'\n",
    "    total_people = 0\n",
    "    def __init__(self, fname, lname):\n",
    "        self.firstname = fname \n",
    "        self.lastname = lname\n",
    "        IITian.total_people += 1\n",
    "    \n",
    "    def fullname(self):\n",
    "        print(self.firstname +' '+self.lastname)\n",
    "        \n",
    "    #a method in parent is also inherited\n",
    "    def attend(self):\n",
    "        return \"I should attend.\"\n",
    "\n",
    "class Professor(IITian):\n",
    "    def __init__(self, fname, lname, salary, courses_offered):\n",
    "        super().__init__(fname, lname)\n",
    "        self.salary = salary\n",
    "        self.courses_offered = courses_offered\n",
    "\n",
    "\n",
    "class Student(IITian):\n",
    "    def __init__(self, fname, lname, rollno, courses_taken):\n",
    "        super().__init__(fname, lname)\n",
    "        self.rollno = rollno\n",
    "        self.courses_taken= courses_taken\n"
   ]
  },
  {
   "cell_type": "code",
   "execution_count": null,
   "metadata": {},
   "outputs": [],
   "source": [
    "# testing method inheritance\n",
    "moosa = Professor('moosa','abc',1000,['ase1'])\n",
    "student_x = Student('student','x',12,'[ase1, m3, algo]')\n",
    "IIT_people = [moosa,student_x]\n",
    "for p in IIT_people:\n",
    "    print(p.attend())"
   ]
  },
  {
   "cell_type": "markdown",
   "metadata": {},
   "source": [
    "#### _\"inheritance defines a relationship among classes, wherein one class shares the structure or behavior defined in one or more classes (denoting single inheritance and multiple inheritance, respectively). Inheritance thus represents a hierarchy of abstractions, in which a subclass inherits from one or more superclasses. Typically, a subclass augments or redefines the existing structure and behavior of its superclasses.\"_"
   ]
  },
  {
   "cell_type": "code",
   "execution_count": null,
   "metadata": {},
   "outputs": [],
   "source": [
    "class IITian:\n",
    "    livesin_location = 'SriCity'\n",
    "    total_people = 0\n",
    "    def __init__(self, fname, lname):\n",
    "        self.firstname = fname \n",
    "        self.lastname = lname\n",
    "        IITian.total_people += 1\n",
    "    \n",
    "    def fullname(self):\n",
    "        print(self.firstname +' '+self.lastname)\n",
    "        \n",
    "    #a method in parent is also inherited\n",
    "    def attend(self):\n",
    "        return \"I should attend.\"\n",
    "\n",
    "class Professor(IITian):\n",
    "    def __init__(self, fname, lname, salary, courses_offered):\n",
    "        super().__init__(fname, lname)\n",
    "        self.salary = salary\n",
    "        self.courses_offered = courses_offered\n",
    "        \n",
    "    def attend(self):\n",
    "        return \"Yes. I {} have to teach the class\".format(self.firstname)\n",
    "\n",
    "class Student(IITian):\n",
    "    def __init__(self, fname, lname, rollno, courses_taken):\n",
    "        super().__init__(fname, lname)\n",
    "        self.rollno = rollno\n",
    "        self.courses_taken= courses_taken\n",
    "        \n",
    "    def attend(self):\n",
    "        return \"I {} have people to give me proxy\".format(self.firstname)"
   ]
  },
  {
   "cell_type": "code",
   "execution_count": null,
   "metadata": {},
   "outputs": [],
   "source": [
    "moosa = Professor('moosa','abc',1000,['ase1'])\n",
    "student_x = Student('student','x',12,['ase1', 'm3', 'algo'])\n",
    "IIT_people = [moosa,student_x]\n",
    "for p in IIT_people:\n",
    "    print(p.attend())"
   ]
  },
  {
   "cell_type": "markdown",
   "metadata": {},
   "source": [
    "#### _\"Polymorphism is a condition that exists when the features of dynamic typing and inheritance interact. Polymorphism represents a concept in type theory in which a single name (such as a variable declaration) may denote objects of many different classes that are related by some common superclass. Any object denoted by this name is therefore able to respond to some common set of operations\"_"
   ]
  },
  {
   "cell_type": "code",
   "execution_count": null,
   "metadata": {},
   "outputs": [],
   "source": [
    "#Method chaining using super\n",
    "class IITian:\n",
    "    livesin_location = 'SriCity' #these are called instance variables\n",
    "    total_people = 0\n",
    "    def __init__(self, fname, lname):\n",
    "        self.firstname = fname \n",
    "        self.lastname = lname\n",
    "        IITian.total_people += 1\n",
    "    \n",
    "    def fullname(self):\n",
    "        print(self.firstname +' '+self.lastname)\n",
    "    \n",
    "    def attend(self):\n",
    "        return \"I should attend.\"\n",
    "\n",
    "class Professor(IITian):\n",
    "    def __init__(self, fname, lname, salary, courses_offered):\n",
    "        super().__init__(fname, lname)\n",
    "        self.salary = salary\n",
    "        self.courses_offered = courses_offered\n",
    "        \n",
    "    def attend(self):\n",
    "        return \"Yes. I {} have to teach the class, So \".format(self.firstname) + super().attend()\n",
    "\n",
    "class Student(IITian):\n",
    "    def __init__(self, fname, lname, rollno, courses_taken):\n",
    "        super().__init__(fname, lname)\n",
    "        self.rollno = rollno\n",
    "        self.courses_taken= courses_taken\n",
    "        \n",
    "    def attend(self):\n",
    "        return \"I {} have people to give me proxy, So I don't care if \".format(self.firstname) + super().attend()"
   ]
  },
  {
   "cell_type": "code",
   "execution_count": null,
   "metadata": {},
   "outputs": [],
   "source": [
    "moosa = Professor('moosa','abc',1000,['ase1'])\n",
    "student_x = Student('student','x',12,'[ase1, m3, algo]')\n",
    "IIT_people = [moosa,student_x]\n",
    "for p in IIT_people:\n",
    "    print(p.attend())"
   ]
  },
  {
   "cell_type": "code",
   "execution_count": null,
   "metadata": {},
   "outputs": [],
   "source": [
    "#Decorators and property\n",
    "class IITian:\n",
    "    livesin_location = 'SriCity' #these are called instance variables\n",
    "    total_people = 0\n",
    "    def __init__(self, fname, lname):\n",
    "        self.firstname = fname \n",
    "        self.lastname = lname\n",
    "        IITian.total_people += 1\n",
    "    \n",
    "    @property #dynamic\n",
    "    def fullname(self):\n",
    "        return self.firstname +' '+self.lastname\n",
    "    \n",
    "    def attend(self):\n",
    "        return \"I should attend.\"\n",
    "\n",
    "class Professor(IITian):\n",
    "    def __init__(self, fname, lname, salary, courses_offered):\n",
    "        super().__init__(fname, lname)\n",
    "        self.salary = salary\n",
    "        self.courses_offered = courses_offered\n",
    "        \n",
    "    def attend(self):\n",
    "        return \"Yes. I {} have to teach the class, So \".format(self.firstname) + super().attend()\n",
    "\n",
    "class Student(IITian):\n",
    "    def __init__(self, fname, lname, rollno, courses_taken):\n",
    "        super().__init__(fname, lname)\n",
    "        self.rollno = rollno\n",
    "        self.courses_taken= courses_taken\n",
    "        \n",
    "    def attend(self):\n",
    "        return \"I {} have people to give me proxy, So I don't care if \".format(self.firstname) + super().attend()"
   ]
  },
  {
   "cell_type": "code",
   "execution_count": null,
   "metadata": {},
   "outputs": [],
   "source": [
    "moosa = Professor('moosa','abc',1000,['ase1'])\n",
    "student_x = Student('student','x',12,'[ase1, m3, algo]')\n",
    "IIT_people = [moosa,student_x]\n",
    "for p in IIT_people:\n",
    "    print(p.fullname)"
   ]
  },
  {
   "cell_type": "code",
   "execution_count": null,
   "metadata": {},
   "outputs": [],
   "source": [
    "IIT_csv = \"Moosa, Abc\""
   ]
  },
  {
   "cell_type": "code",
   "execution_count": null,
   "metadata": {},
   "outputs": [],
   "source": [
    "def from_csv(csvstring):\n",
    "    first, last = csvstring.split(\",\")\n",
    "    return IITian(first,last)\n",
    "\n",
    "obj = from_csv(IIT_csv)\n",
    "obj\n",
    "#print(obj.firstname+' '+obj.lastname)"
   ]
  },
  {
   "cell_type": "code",
   "execution_count": null,
   "metadata": {},
   "outputs": [],
   "source": [
    "#Decorators and property\n",
    "class IITian:\n",
    "    livesin_location = 'SriCity' #these are called instance variables\n",
    "    total_people = 0\n",
    "    def __init__(self, fname, lname):\n",
    "        self.firstname = fname \n",
    "        self.lastname = lname\n",
    "        IITian.total_people += 1\n",
    "    \n",
    "    @property #dynamic\n",
    "    def fullname(self):\n",
    "        return self.firstname +' '+self.lastname\n",
    "    \n",
    "    def attend(self):\n",
    "        return \"I should attend.\"\n",
    "    \n",
    "    def __str__(self):\n",
    "        return \"<{} {}>\".format(self.firstname, self.lastname)\n",
    "    \n",
    "    def __repr__(self):\n",
    "        return \"<repr:{} {}>\".format(self.firstname, self.lastname)\n",
    "    \n",
    "    @classmethod\n",
    "    def from_csv(cls, csvstring):\n",
    "        first, last = csvstring.split(\",\")\n",
    "        return cls(first,last)\n",
    "    \n",
    "\n",
    "class Professor(IITian):\n",
    "    def __init__(self, fname, lname, salary, courses_offered):\n",
    "        super().__init__(fname, lname)\n",
    "        self.salary = salary\n",
    "        self.courses_offered = courses_offered\n",
    "        \n",
    "    def attend(self):\n",
    "        return \"Yes. I {} have to teach the class, So \".format(self.firstname) + super().attend()\n",
    "\n",
    "class Student(IITian):\n",
    "    def __init__(self, fname, lname, rollno, courses_taken):\n",
    "        super().__init__(fname, lname)\n",
    "        self.rollno = rollno\n",
    "        self.courses_taken= courses_taken\n",
    "        \n",
    "    def attend(self):\n",
    "        return \"I {} have people to give me proxy, So I don't care if \".format(self.firstname) + super().attend()"
   ]
  },
  {
   "cell_type": "code",
   "execution_count": null,
   "metadata": {},
   "outputs": [],
   "source": [
    "print(IITian.from_csv(\"moosa, abc\"))"
   ]
  },
  {
   "cell_type": "markdown",
   "metadata": {},
   "source": [
    "### We gave you an example of the Four Pillars for OOP in Python\n",
    "##### 1. Abstraction\n",
    "##### 2. Encapsulation\n",
    "##### 3. Inheritance\n",
    "##### 4. Polymorphism"
   ]
  },
  {
   "cell_type": "markdown",
   "metadata": {},
   "source": [
    "##### For More: I recommend you to visit Corey Schaffer's nice [youtube tutorial](https://www.youtube.com/playlist?list=PL-osiE80TeTsqhIuOqKhwlXsIBIdSeYtc) playlist on python and OOP\n",
    "\n",
    "##### Learn the following topics\n",
    "1. static methods\n",
    "2. difference between static and class methods"
   ]
  },
  {
   "cell_type": "code",
   "execution_count": null,
   "metadata": {},
   "outputs": [],
   "source": []
  }
 ],
 "metadata": {
  "kernelspec": {
   "display_name": "Python 3",
   "language": "python",
   "name": "python3"
  },
  "language_info": {
   "codemirror_mode": {
    "name": "ipython",
    "version": 3
   },
   "file_extension": ".py",
   "mimetype": "text/x-python",
   "name": "python",
   "nbconvert_exporter": "python",
   "pygments_lexer": "ipython3",
   "version": "3.9.2"
  }
 },
 "nbformat": 4,
 "nbformat_minor": 2
}
