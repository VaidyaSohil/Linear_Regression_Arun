{
 "cells": [
  {
   "cell_type": "markdown",
   "metadata": {},
   "source": [
    "# Linear Regression\n",
    "\n",
    "- In research labs and when performing tests in an industrial setting, you take measurements that are associated with some level of error\n",
    "- We need ways to summarize our data\n"
   ]
  },
  {
   "cell_type": "markdown",
   "metadata": {},
   "source": [
    "## Working with Data\n",
    "There are a few important concepts we need to deal with in order to correctly work with our data. These being:\n",
    "- Mean\n",
    "- Sum of Squares\n",
    "- Standard Deviation\n",
    "- Variance"
   ]
  },
  {
   "cell_type": "markdown",
   "metadata": {},
   "source": [
    "### EXAMPLE\n",
    "If we take a bunch of measurements of flow rate through a tube in our system:\n",
    "\n",
    "|Q($m^3 /s$)|\n",
    "|:-:|\n",
    "|0.0054|\n",
    "|0.0072|\n",
    "|0.0051|\n",
    "|0.0065|\n",
    "|0.0067|\n",
    "|0.0055|\n",
    "\n",
    "<img src=\"Images/Example_FlowRate.png\" alt=\"Drawing of flow rate\" title=\"Flow Rate Example\" />"
   ]
  },
  {
   "cell_type": "code",
   "execution_count": 2,
   "metadata": {},
   "outputs": [],
   "source": [
    "# Run this code to set up Q and import some necessary libraries\n",
    "import math\n",
    "import numpy as np\n",
    "\n",
    "q_values = [ 0.0054, 0.0072, 0.0051, 0.0065, 0.0067, 0.0055 ]"
   ]
  },
  {
   "cell_type": "markdown",
   "metadata": {},
   "source": [
    "***\n",
    "#### Mean\n",
    "***\n",
    "To summarize the data we can use the <font color=red> __Mean:__ </font>\n",
    "\n",
    "$$ \\hat{y} = \\frac{ \\sum \\limits _{i=1} ^{n} y _i }{ n } $$"
   ]
  },
  {
   "cell_type": "code",
   "execution_count": 3,
   "metadata": {},
   "outputs": [
    {
     "name": "stdout",
     "output_type": "stream",
     "text": [
      "The mean is: 0.0061\n"
     ]
    }
   ],
   "source": [
    "# Run this code to get the mean\n",
    "\n",
    "# Get the number of values we are using (from the example it is 6)\n",
    "number_of_values = len(q_values)\n",
    "\n",
    "# Calculate the mean by getting the sum of the values, divided by the total number of values\n",
    "mean = sum(q_values)/number_of_values\n",
    "\n",
    "# Display the mean to 4 decimal places\n",
    "print(\"The mean is: \" + str(round(mean, 4)))"
   ]
  },
  {
   "cell_type": "markdown",
   "metadata": {},
   "source": [
    "***\n",
    "#### Sum of Squares\n",
    "***\n",
    "We are also usually interested in the variability of spread of the measurements.\n",
    "\n",
    "One measure is the <font color=red> __Sum of the squares__ </font> of the residuals (differences between mean and individual data points):\n",
    "\n",
    "$$ S_t = \\sum \\limits _{i=1} ^{n} (y_i - \\hat{y})^2 $$"
   ]
  },
  {
   "cell_type": "code",
   "execution_count": 4,
   "metadata": {},
   "outputs": [
    {
     "name": "stdout",
     "output_type": "stream",
     "text": [
      "The sum of squares is: 3.5733333333333314e-06\n"
     ]
    }
   ],
   "source": [
    "# Run this code to get the sum of squares\n",
    "\n",
    "# Subtract the mean from each data point\n",
    "s_values = [x - mean for x in q_values]\n",
    "\n",
    "# Get the square of each data point\n",
    "s_values = [x*x for x in s_values]\n",
    "\n",
    "# Get the sum of all the squares \n",
    "sum_of_squares = sum(s_values)\n",
    "\n",
    "# Display the sum of squares\n",
    "print(\"The sum of squares is: \" + str(sum_of_squares))"
   ]
  },
  {
   "cell_type": "markdown",
   "metadata": {},
   "source": [
    "***\n",
    "#### Standard Deviation\n",
    "***\n",
    "Probably the most commonly used measure of spread is the <font color=red> __Standard Deviation:__ </font>\n",
    "\n",
    "$$ S_y = \\sqrt{ \\frac{ S_t }{ n-1 } } $$"
   ]
  },
  {
   "cell_type": "code",
   "execution_count": 5,
   "metadata": {},
   "outputs": [
    {
     "name": "stdout",
     "output_type": "stream",
     "text": [
      "The standard deviation is: 0.0008453795991545255\n"
     ]
    }
   ],
   "source": [
    "# Run this code to get the standard deviation\n",
    "\n",
    "# We already have St and the number of values calculated previously, so we will use those variables\n",
    "# We need to use the math library to access sqrt (square root)\n",
    "standard_deviation = math.sqrt(sum_of_squares/(number_of_values-1))\n",
    "\n",
    "# Display the standard deviation\n",
    "print(\"The standard deviation is: \" + str(standard_deviation))"
   ]
  },
  {
   "cell_type": "markdown",
   "metadata": {},
   "source": [
    "***\n",
    "#### Variance\n",
    "***\n",
    "Similarly, the <font color=red> __Variance__ </font> in the data is:\n",
    "\n",
    "$$ {S_y}^2 = \\frac{ S_t }{ n-1 } $$"
   ]
  },
  {
   "cell_type": "code",
   "execution_count": 6,
   "metadata": {},
   "outputs": [
    {
     "name": "stdout",
     "output_type": "stream",
     "text": [
      "The variance is: 7.146666666666663e-07\n"
     ]
    }
   ],
   "source": [
    "# Run this code to get the variance\n",
    "\n",
    "# All we need to do is get the square of the standard deviation\n",
    "variance = standard_deviation * standard_deviation\n",
    "\n",
    "# Display the variance\n",
    "print(\"The variance is: \" + str(variance))"
   ]
  },
  {
   "cell_type": "markdown",
   "metadata": {},
   "source": [
    "### EXAMPLE\n",
    "Now, suppose we adjust the dial and take flow measurements:\n",
    "\n",
    "|Dial Position|Q($m^3/s$)|\n",
    "|:-:|:-:|\n",
    "|0.5|.0015|\n",
    "|1.0|.0040|\n",
    "|2.0|.0055|\n",
    "|2.5|.0085|\n",
    "|4.0|.0131|\n",
    "\n",
    "\n",
    "- We want to develop a calibration equation so we know Q for any dial setting\n",
    "- We could interpolate from our measurements every time, but that would be very inefficient. Instead we can find the equation of a line that best fits the data points\n",
    "\n",
    "<img src=\"Images/Example_FlowRate_Dial_Plot.png\" alt=\"Example two Plot\" title=\"Example Two Plot\" />\n",
    "\n",
    "$$ y = mx + b + e $$\n",
    "&emsp;&emsp;$(a)$ We need the slope m<br>\n",
    "&emsp;&emsp;$(b)$ and the intercept b\n",
    "\n",
    "- One way to find the best fit line is to minimize the sum of the squares of the residuals (minimize error):\n",
    "\n",
    "$$ e_i = y_i - mx_i - b $$ <br>\n",
    "$$ S_r = \\sum \\limits _{i=1} ^n {e_i}^2 $$ <br>\n",
    "$$ S_r = \\sum \\limits _{i=1} ^n (y_i - mx_i - b)^2 $$ <br>\n",
    "\n",
    "\n",
    "To find m and b that minimize the Sr, take derivatives with respect to m and b, and set them to 0:\n",
    "\n",
    "$$ \\frac{ \\partial S_r }{ \\partial b } = -2 \\sum (y_i - mx_i -b) \\tag{1} $$<br>\n",
    "$$ \\frac{ \\partial S_r }{ \\partial m } = -2 \\sum [x_i(y_i - mx_i -b)] \\tag{2} $$ <br>\n",
    "\n",
    "For $(1)$:<br>\n",
    "$$ -2 \\sum (y_i - mx_i -b) = 0 $$<br>\n",
    "$$ \\sum y_i - m \\sum x_i - \\sum b = 0 $$<br>\n",
    "$$ \\sum y_i - m \\sum x_i - bn = 0 $$<br>\n",
    "\n",
    "\n",
    "For $(2)$:<br>\n",
    "$$ -2 \\sum (x_i y_i - m {x_i}^2 - bx_i) = 0 $$<br>\n",
    "$$ \\sum x_i y_i - m \\sum {x_i}^2 - b \\sum x_i = 0 $$<br>\n",
    "\n",
    "\n",
    "Rearranging we get the following:\n",
    "$$ \\sum y_i = m \\sum x_i + bn $$<br>\n",
    "$$ \\sum x_i y_i = m \\sum {x_i}^2 + b \\sum x_i $$<br>\n",
    "\n",
    "$$ \n",
    "\\begin{vmatrix}\n",
    "\\sum y_i\\\\\n",
    "\\sum x_i y_i\n",
    "\\end{vmatrix}\n",
    " =  \n",
    "\\begin{vmatrix}\n",
    "\\sum x_i & n \\\\\n",
    "\\sum {x_i}^2 & \\sum x_i\n",
    "\\end{vmatrix}\n",
    "\\begin{vmatrix}\n",
    "m\\\\\n",
    "b\n",
    "\\end{vmatrix}\n",
    "$$<br>\n",
    "\n",
    "\n",
    "We can now solve for m and b.\n",
    "\n",
    "$$ \\vec{y} = A \\vec{m} $$ <br>\n",
    "$$ \\vec{m} = A \\ \\vec{y} $$ <br> \n",
    "\n",
    "$ m = 0.0032 $<br>\n",
    "$ b = 0.00007 $"
   ]
  },
  {
   "cell_type": "code",
   "execution_count": 9,
   "metadata": {},
   "outputs": [
    {
     "name": "stdout",
     "output_type": "stream",
     "text": [
      "(5,)\n",
      "\n",
      "RESULTS\n",
      "Intercept (b):\t 6.66666666666628e-05\n",
      "Slope (m):\t 0.003226666666666666\n"
     ]
    }
   ],
   "source": [
    "# Run this code to get the solutions to the above problem\n",
    "\n",
    "# This is the data we are using\n",
    "dial = np.array([ 0.5, 1.0, 2.0, 2.5, 4.0 ])\n",
    "q_values_new = np.array([ 0.0015, 0.0040, 0.0055, 0.0085, 0.0131 ])\n",
    "\n",
    "# Perform the square of residuals\n",
    "# Get matrix y\n",
    "y = np.array([ sum(q_values_new), sum(q_values_new * dial) ])\n",
    "\n",
    "# Get matrix A\n",
    "A = np.array([ [sum(dial), 5], [sum(dial*dial), sum(dial)] ])\n",
    "\n",
    "# Get m and b\n",
    "m_b = (np.linalg.inv(A) @ y).T\n",
    "\n",
    "# Display the results\n",
    "print(\"\\nRESULTS\")\n",
    "print(\"Intercept (b):\\t\", m_b[1])\n",
    "print(\"Slope (m):\\t\", m_b[0])"
   ]
  },
  {
   "cell_type": "markdown",
   "metadata": {},
   "source": [
    "<br><br>\n",
    "***\n",
    "The next cell shows how to perform the same as above using built in Python libraries"
   ]
  },
  {
   "cell_type": "code",
   "execution_count": 28,
   "metadata": {},
   "outputs": [
    {
     "name": "stdout",
     "output_type": "stream",
     "text": [
      "Dial DATA\n",
      "[[0.5]\n",
      " [1. ]\n",
      " [2. ]\n",
      " [2.5]\n",
      " [4. ]]\n",
      "Q DATA\n",
      "[0.0015 0.004  0.0055 0.0085 0.0131]\n",
      "\n",
      "RESULTS\n",
      "Intercept (b):  6.666666666666453e-05\n",
      "Slope (m):  [0.00322667]\n"
     ]
    }
   ],
   "source": [
    "# Here is another way we can perform linear regression in Python\n",
    "from sklearn.linear_model import LinearRegression\n",
    "\n",
    "# Reshape the array\n",
    "dial = dial.reshape(-1,1)\n",
    "\n",
    "# Display the arrays\n",
    "print(\"Dial DATA\")\n",
    "print(dial)\n",
    "print(\"Q DATA\")\n",
    "print(q_values_new)\n",
    "\n",
    "# Create our linear regression model\n",
    "model = LinearRegression()\n",
    "\n",
    "# Next we fit our model using the data\n",
    "model.fit(dial, q_values_new)\n",
    "\n",
    "# Store the values\n",
    "b = model.intercept_\n",
    "m = model.coef_\n",
    "\n",
    "# Get the results\n",
    "print(\"\\nRESULTS\")\n",
    "print(\"Intercept (b): \", b)\n",
    "print(\"Slope (m): \", m)"
   ]
  },
  {
   "cell_type": "code",
   "execution_count": 14,
   "metadata": {},
   "outputs": [
    {
     "data": {
      "image/png": "[encoded data removed]",
      "text/plain": [
       "<Figure size 576x432 with 1 Axes>"
      ]
     },
     "metadata": {
      "needs_background": "light"
     },
     "output_type": "display_data"
    }
   ],
   "source": [
    "# We can display the results of the Linear Regression on a plot\n",
    "import matplotlib.pyplot as plt\n",
    "\n",
    "# We just need to predict y from some data\n",
    "x_new = np.linspace(0, 5, 100)\n",
    "y_new = model.predict(x_new[:, np.newaxis])\n",
    "\n",
    "# plot the results\n",
    "plt.figure(figsize=(8, 6))\n",
    "ax = plt.axes()\n",
    "ax.scatter(dial, q_values_new)  # Original data to create the points\n",
    "ax.plot(x_new, y_new)  # New data to create the line\n",
    "\n",
    "ax.set_xlabel('Dial')\n",
    "ax.set_ylabel('Q')\n",
    "\n",
    "ax.axis('tight')\n",
    "\n",
    "plt.show()"
   ]
  },
  {
   "cell_type": "markdown",
   "metadata": {},
   "source": [
    "***\n",
    "#### Standard Error of the Estimate\n",
    "***\n",
    "Now that we have the \"best fit\" line, how good is the fit?\n",
    "$$ S_r = \\sum \\limits _{i=1} ^n (y_i - mx_i - b)^2 $$<br>\n",
    "$$ \\textrm{Recall: } S_t = \\sum \\limits _{i=1} ^n (y_i - \\hat{y})^2 $$<br>\n",
    "\n",
    "\n",
    "We can use the <font color=red> __Standard Error of the Estimate__ </font> \n",
    "$$ SEE = \\sqrt{ \\frac{S_r}{n-2} } $$<br> "
   ]
  },
  {
   "cell_type": "code",
   "execution_count": 23,
   "metadata": {},
   "outputs": [
    {
     "name": "stdout",
     "output_type": "stream",
     "text": [
      "0.0007577745193804175\n"
     ]
    }
   ],
   "source": [
    "# Run this code to get the SEE\n",
    "\n",
    "s_r = 0\n",
    "\n",
    "# We can quickly create Sr\n",
    "for i in range(len(dial)):\n",
    "    s_r += (q_values_new[i] - m*dial[i] - b) **2\n",
    "    \n",
    "# Get the SEE\n",
    "see = math.sqrt(s_r/(5-2))\n",
    "\n",
    "# Display the results\n",
    "print(see)"
   ]
  },
  {
   "cell_type": "markdown",
   "metadata": {},
   "source": [
    "***\n",
    "#### Coefficient of Determination\n",
    "***\n",
    "Probably the most common metric cited for goodness of fit is the <font color=red> __Coefficient of Determination__ </font> \n",
    "\n",
    "$$ r^2 = \\frac{ S_t - S_r }{ S_t } $$<br>\n",
    "\n",
    "This number tells you how much of the variance about the mean is described by the best-fit line.\n",
    "\n",
    "$$ 0 \\leq r^2 \\leq 1 $$\n",
    "\n",
    "Where 0 indicates no relationship between x and y, and 1 indicates a perfect fit."
   ]
  },
  {
   "cell_type": "code",
   "execution_count": 24,
   "metadata": {},
   "outputs": [
    {
     "name": "stdout",
     "output_type": "stream",
     "text": [
      "[0.97868925]\n"
     ]
    }
   ],
   "source": [
    "# Run this code to get the Coefficient of Determination\n",
    "\n",
    "# We must calculate the sum of squares again, as the previous St was calculated using different data\n",
    "\n",
    "# Sum of Squares calculation\n",
    "# Subtract the mean from each data point\n",
    "s_values = [x - mean for x in q_values_new]\n",
    "\n",
    "# Get the square of each data point\n",
    "s_values = [x*x for x in s_values]\n",
    "\n",
    "# Get the sum of all the squares \n",
    "s_t = sum(s_values)\n",
    "\n",
    "\n",
    "# We already have the SEE, so we can just use that in the formula\n",
    "coef_of_det = (s_t - s_r)/s_t\n",
    "\n",
    "# Display the results\n",
    "print(coef_of_det)"
   ]
  },
  {
   "cell_type": "code",
   "execution_count": null,
   "metadata": {},
   "outputs": [],
   "source": []
  }
 ],
 "metadata": {
  "kernelspec": {
   "display_name": "Python 3",
   "language": "python",
   "name": "python3"
  },
  "language_info": {
   "codemirror_mode": {
    "name": "ipython",
    "version": 3
   },
   "file_extension": ".py",
   "mimetype": "text/x-python",
   "name": "python",
   "nbconvert_exporter": "python",
   "pygments_lexer": "ipython3",
   "version": "3.6.10"
  }
 },
 "nbformat": 4,
 "nbformat_minor": 4
}
